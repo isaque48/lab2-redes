{
  "nbformat": 4,
  "nbformat_minor": 0,
  "metadata": {
    "colab": {
      "provenance": [],
      "authorship_tag": "ABX9TyNLkZe8GBn5ktFykT5IGs3+",
      "include_colab_link": true
    },
    "kernelspec": {
      "name": "python3",
      "display_name": "Python 3"
    },
    "language_info": {
      "name": "python"
    }
  },
  "cells": [
    {
      "cell_type": "markdown",
      "metadata": {
        "id": "view-in-github",
        "colab_type": "text"
      },
      "source": [
        "<a href=\"https://colab.research.google.com/github/isaque48/lab2-redes/blob/main/lab2_REDES.ipynb\" target=\"_parent\"><img src=\"https://colab.research.google.com/assets/colab-badge.svg\" alt=\"Open In Colab\"/></a>"
      ]
    },
    {
      "cell_type": "markdown",
      "source": [
        "**Implementação da PARTE 2**"
      ],
      "metadata": {
        "id": "pgutQbueWDAU"
      }
    },
    {
      "cell_type": "code",
      "execution_count": 9,
      "metadata": {
        "id": "YWEARoZCTJPx"
      },
      "outputs": [],
      "source": [
        "def xor_bits(a, b):\n",
        "    \"\"\"\n",
        "    Realiza a operação de XOR bit a bit entre duas strings binárias de mesmo comprimento.\n",
        "    \"\"\"\n",
        "    resultado = \"\"\n",
        "    for i in range(len(a)):\n",
        "        if a[i] == b[i]:\n",
        "            resultado += '0'\n",
        "        else:\n",
        "            resultado += '1'\n",
        "    return resultado\n",
        "\n",
        "\n",
        "def calcular_crc_manual(dados_bits: str, gerador_bits: str) -> str:\n",
        "    \"\"\"\n",
        "    Calcula o CRC para uma sequência de dados M(x) usando um gerador G(x).\n",
        "\n",
        "    Args:\n",
        "        dados_bits: A string binária representando o polinômio da mensagem, M(x).\n",
        "        gerador_bits: A string binária representando o polinômio gerador, G(x).\n",
        "\n",
        "    Returns:\n",
        "        A string binária de r bits representando o CRC.\n",
        "    \"\"\"\n",
        "    # 1. Obtenha o grau 'r' do gerador.\n",
        "    #    Lembre-se que um gerador de n bits representa um polinômio de grau n-1.\n",
        "    r = len(gerador_bits) - 1\n",
        "\n",
        "    # 2. Crie M(x) * 2^r, que é a mensagem com 'r' zeros anexados.\n",
        "    mensagem_aumentada = list(dados_bits + '0' * r)\n",
        "\n",
        "    # 3. Implemente o loop de divisão.\n",
        "    #    Percorra a mensagem bit a bit.\n",
        "    for i in range(len(dados_bits)):\n",
        "        # Se o bit mais significativo da 'janela' atual for '1', realize o XOR.\n",
        "        # - a janela\n",
        "        if mensagem_aumentada[i] == '1':\n",
        "            janela_atual = \"\".join(mensagem_aumentada[i : i + r + 1])\n",
        "            resultado_xor = xor_bits(janela_atual, gerador_bits)\n",
        "\n",
        "            # Atualize a mensagem com o resultado do XOR.\n",
        "            for j in range(len(resultado_xor)):\n",
        "                mensagem_aumentada[i + j] = resultado_xor[j]\n",
        "\n",
        "    # 4. O resto da divisão são os 'r' bits finais da mensagem processada.\n",
        "    resto = \"\".join(mensagem_aumentada[-r:])\n",
        "    return resto\n",
        "\n",
        "    def calcular_crc_manual(dados_bits: str, gerador_bits: str) -> str:\n",
        "      \"\"\"\n",
        "    Calcula o CRC para uma sequência de dados M(x) usando um gerador G(x).\n",
        "\n",
        "    Args:\n",
        "        dados_bits: A string binária representando o polinômio da mensagem, M(x).\n",
        "        gerador_bits: A string binária representando o polinômio gerador, G(x).\n",
        "\n",
        "    Returns:\n",
        "        A string binária de r bits representando o CRC.\n",
        "    \"\"\"\n",
        "    # 1. Obtenha o grau 'r' do gerador.\n",
        "    #    Lembre-se que um gerador de n bits representa um polinômio de grau n-1.\n",
        "    r = len(gerador_bits) - 1\n",
        "\n",
        "    # 2. Crie T(x)=  M(x) * 2^r, que é a mensagem com 'r' zeros anexados.\n",
        "    mensagem_aumentada = list(dados_bits + '0' * r)\n",
        "\n",
        "    # 3. Implemente o loop de divisão.\n",
        "    #    Percorra os bit original da mensagem (em uma janela), da esquerda para a direita.\n",
        "    for i in range(len(dados_bits)):\n",
        "        # Se o bit mais significativo da 'janela' atual for '1', realize o XOR.\n",
        "        # - considere a janela atual como os próximos r+1 bits. (para pode dividir o por G(x))\n",
        "        if mensagem_aumentada[i] == '1':\n",
        "            inicio = i\n",
        "            fim = i + len(gerador_bits)\n",
        "            janela_atual = \"\".join(mensagem_aumentada[inicio : fim]) # inicio e fim devem calculados\n",
        "            resultado_xor = xor_bits(janela_atual, gerador_bits)\n",
        "\n",
        "            # Atualize a mensagem com o resultado do XOR.\n",
        "            # - Substitua os bits correspondentes na mensagem pela saída do XOR,\n",
        "#          ignorando o primeiro bit (que já foi processado).\n",
        "            for j in range(len(resultado_xor)):\n",
        "                mensagem_aumentada[i + j] = resultado_xor[j]\n",
        "\n",
        "    # 4. O resto da divisão são os 'r' bits finais da mensagem processada.\n",
        "    resto = \"\".join(mensagem_aumentada[-r:])\n",
        "    return resto"
      ]
    },
    {
      "cell_type": "code",
      "source": [
        "# Exemplo de uso para validação\n",
        "dados_teste = \"1101011111\"  # M(x)\n",
        "gerador_teste = \"10011\"    # G(x)\n",
        "crc_calculado = calcular_crc_manual(dados_teste, gerador_teste)\n",
        "\n",
        "print(f\"Dados M(x): {dados_teste}\")\n",
        "print(f\"Gerador G(x): {gerador_teste}\")\n",
        "print(f\"CRC Calculado: {crc_calculado}\")\n",
        "# Quadro T(x) a ser transmitido: dados_teste + crc_calculado"
      ],
      "metadata": {
        "colab": {
          "base_uri": "https://localhost:8080/",
          "height": 0
        },
        "id": "npxzaIFaUx7c",
        "outputId": "af04d81a-ec05-4e0b-e9b2-c80cb8588f0d"
      },
      "execution_count": 8,
      "outputs": [
        {
          "output_type": "stream",
          "name": "stdout",
          "text": [
            "Dados M(x): 1101011111\n",
            "Gerador G(x): 10011\n",
            "CRC Calculado: 0010\n"
          ]
        }
      ]
    },
    {
      "cell_type": "markdown",
      "source": [
        "**Implementação PARTE 3**"
      ],
      "metadata": {
        "id": "5vopqCq2YLbb"
      }
    },
    {
      "cell_type": "code",
      "source": [
        "pip install crc"
      ],
      "metadata": {
        "colab": {
          "base_uri": "https://localhost:8080/",
          "height": 0
        },
        "id": "nRFCJnR0YOZ3",
        "outputId": "ed4e29f8-60b8-46fd-ea3d-adad81655375"
      },
      "execution_count": 7,
      "outputs": [
        {
          "output_type": "stream",
          "name": "stdout",
          "text": [
            "Requirement already satisfied: crc in /usr/local/lib/python3.11/dist-packages (7.1.0)\n"
          ]
        }
      ]
    },
    {
      "cell_type": "code",
      "source": [
        "import time\n",
        "import tracemalloc\n",
        "import os\n",
        "import matplotlib.pyplot as plot\n",
        "from crc import Calculator, Crc16\n",
        "\n",
        "# --- Insira sua função calcular_crc_manual e xor_bits aqui ---\n",
        "def xor_bits(a, b):\n",
        "    \"\"\"\n",
        "    Realiza a operação de XOR bit a bit entre duas strings binárias de mesmo comprimento.\n",
        "    \"\"\"\n",
        "    resultado = \"\"\n",
        "    for i in range(len(a)):\n",
        "        if a[i] == b[i]:\n",
        "            resultado += '0'\n",
        "        else:\n",
        "            resultado += '1'\n",
        "    return resultado\n",
        "\n",
        "\n",
        "def calcular_crc_manual(dados_bits: str, gerador_bits: str) -> str:\n",
        "    \"\"\"\n",
        "    Calcula o CRC para uma sequência de dados M(x) usando um gerador G(x).\n",
        "\n",
        "    Args:\n",
        "        dados_bits: A string binária representando o polinômio da mensagem, M(x).\n",
        "        gerador_bits: A string binária representando o polinômio gerador, G(x).\n",
        "\n",
        "    Returns:\n",
        "        A string binária de r bits representando o CRC.\n",
        "    \"\"\"\n",
        "    # 1. Obtenha o grau 'r' do gerador.\n",
        "    #    Lembre-se que um gerador de n bits representa um polinômio de grau n-1.\n",
        "    r = len(gerador_bits) - 1\n",
        "\n",
        "    # 2. Crie M(x) * 2^r, que é a mensagem com 'r' zeros anexados.\n",
        "    mensagem_aumentada = list(dados_bits + '0' * r)\n",
        "\n",
        "    # 3. Implemente o loop de divisão.\n",
        "    #    Percorra a mensagem bit a bit.\n",
        "    for i in range(len(dados_bits)):\n",
        "        # Se o bit mais significativo da 'janela' atual for '1', realize o XOR.\n",
        "        # - a janela\n",
        "        if mensagem_aumentada[i] == '1':\n",
        "            janela_atual = \"\".join(mensagem_aumentada[i : i + r + 1])\n",
        "            resultado_xor = xor_bits(janela_atual, gerador_bits)\n",
        "\n",
        "            # Atualize a mensagem com o resultado do XOR.\n",
        "            for j in range(len(resultado_xor)):\n",
        "                mensagem_aumentada[i + j] = resultado_xor[j]\n",
        "\n",
        "    # 4. O resto da divisão são os 'r' bits finais da mensagem processada.\n",
        "    resto = \"\".join(mensagem_aumentada[-r:])\n",
        "    return resto\n",
        "\n",
        "# Usando um padrão de 16 bits como referência\n",
        "calculator_lib = Calculator(Crc16.MODBUS)\n",
        "\n",
        "# Tamanhos de mensagem para teste (em bytes)\n",
        "tamanhos_bytes = [1500, 4500 , 9000, 16000]\n",
        "\n",
        "resultados = []\n",
        "\n",
        "for tamanho in tamanhos_bytes:\n",
        "    print(f\"Analisando para mensagem de {tamanho} bytes...\")\n",
        "    # Gere uma mensagem aleatória de bits\n",
        "    mensagem_bytes = os.urandom(tamanho)\n",
        "    mensagem_bits = \"\".join(format(byte, '08b') for byte in mensagem_bytes)\n",
        "\n",
        "    # Medição da nossa Implementação\n",
        "    tracemalloc.start()\n",
        "    start_time = time.perf_counter()\n",
        "\n",
        "    crc_manual = calcular_crc_manual(mensagem_bits, \"11000000000000101\") # G(x) do CRC-16/MODBUS\n",
        "\n",
        "    end_time = time.perf_counter()\n",
        "    mem_atual_manual, mem_pico_manual = tracemalloc.get_traced_memory()\n",
        "    tracemalloc.stop()\n",
        "\n",
        "    tempo_manual = end_time - start_time\n",
        "\n",
        "    # Medição da Biblioteca\n",
        "    tracemalloc.start()\n",
        "    start_time = time.perf_counter()\n",
        "\n",
        "    crc_lib = calculator_lib.checksum(mensagem_bytes)\n",
        "\n",
        "    end_time = time.perf_counter()\n",
        "    mem_atual_lib, mem_pico_lib = tracemalloc.get_traced_memory()\n",
        "    tracemalloc.stop()\n",
        "\n",
        "    tempo_lib = end_time - start_time\n",
        "\n",
        "    # Armazene os resultados\n",
        "    resultados.append({\n",
        "        \"tamanho\": tamanho,\n",
        "        \"tempo_manual\": tempo_manual,\n",
        "        \"mem_pico_manual\": mem_pico_manual / 1024, # em KiB\n",
        "        \"tempo_lib\": tempo_lib,\n",
        "        \"mem_pico_lib\": mem_pico_lib / 1024 # em KiB\n",
        "    })\n",
        "\n",
        "print(\"--- Resultados Finais ---\")\n",
        "print(resultados)\n",
        "\n",
        "# Criação dos Gráficos:\n",
        "\n",
        "tamanhos = [l[\"tamanho\"] for l in resultados]\n",
        "tempos_manual = [l[\"tempo_manual\"] for l in resultados]\n",
        "tempos_lib = [l[\"tempo_lib\"] for l in resultados]\n",
        "mem_manual = [l[\"mem_pico_manual\"] for l in resultados]\n",
        "mem_lib = [l[\"mem_pico_lib\"] for l in resultados]\n",
        "\n",
        "plot.figure(figsize=(12, 7))\n",
        "\n",
        "# Gráfico 1:\n",
        "plot.subplot(1, 2, 1)\n",
        "plot.plot(tamanhos, tempos_manual, marker='o', label=\"Manual\")\n",
        "plot.plot(tamanhos, tempos_lib, marker='s', label=\"Biblioteca\")\n",
        "plot.title(\"Tempo de Execução (segundos)\")\n",
        "plot.xlabel(\"Tamanho da Mensagem (bytes)\")\n",
        "plot.ylabel(\"Tempo (s)\")\n",
        "plot.legend()\n",
        "plot.grid(True)\n",
        "\n",
        "# Gráfico 2:\n",
        "plot.subplot(1, 2, 2)\n",
        "plot.plot(tamanhos, mem_manual, marker='o', label=\"Manual\")\n",
        "plot.plot(tamanhos, mem_lib, marker='s', label=\"Biblioteca\")\n",
        "plot.title(\"Pico de Uso de Memória (KiB)\")\n",
        "plot.xlabel(\"Tamanho da Mensagem (bytes)\")\n",
        "plot.ylabel(\"Memória (KiB)\")\n",
        "plot.legend()\n",
        "plot.grid(True)\n",
        "\n",
        "plot.tight_layout()\n",
        "plot.show()"
      ],
      "metadata": {
        "colab": {
          "base_uri": "https://localhost:8080/",
          "height": 838
        },
        "id": "5D5rTRUUY17r",
        "outputId": "14476c95-8cb9-4d6f-a47c-570af79338c0"
      },
      "execution_count": null,
      "outputs": [
        {
          "output_type": "stream",
          "name": "stdout",
          "text": [
            "Analisando para mensagem de 1500 bytes...\n",
            "Analisando para mensagem de 4500 bytes...\n",
            "Analisando para mensagem de 9000 bytes...\n",
            "Analisando para mensagem de 16000 bytes...\n",
            "--- Resultados Finais ---\n",
            "[{'tamanho': 1500, 'tempo_manual': 0.5134799870002098, 'mem_pico_manual': 105.7587890625, 'tempo_lib': 0.16260263100048178, 'mem_pico_lib': 51.19140625}, {'tamanho': 4500, 'tempo_manual': 1.1371031569997285, 'mem_pico_manual': 327.7646484375, 'tempo_lib': 0.2212620029995378, 'mem_pico_lib': 5.25}, {'tamanho': 9000, 'tempo_manual': 1.86363093700038, 'mem_pico_manual': 633.1025390625, 'tempo_lib': 0.4413225970001804, 'mem_pico_lib': 5.802734375}, {'tamanho': 16000, 'tempo_manual': 3.2369335590001356, 'mem_pico_manual': 1125.2900390625, 'tempo_lib': 0.7888636870002301, 'mem_pico_lib': 42.986328125}]\n"
          ]
        },
        {
          "output_type": "display_data",
          "data": {
            "text/plain": [
              "<Figure size 1200x700 with 2 Axes>"
            ],
            "image/png": "[encoded data removed]"
          },
          "metadata": {}
        }
      ]
    },
    {
      "cell_type": "markdown",
      "source": [
        "Configurações da meu computador:\n",
        "\n",
        "---\n",
        "\n",
        "\n",
        "Processador: Intel Core i7-13700HX\n",
        "\n",
        "---\n",
        "\n",
        "\n",
        "RAM: 16GB\n",
        "\n",
        "---\n",
        "\n",
        "\n",
        "Placa de Vídeo: RTX 4060"
      ],
      "metadata": {
        "id": "Wp2NzRF0adHj"
      }
    },
    {
      "cell_type": "markdown",
      "source": [
        "**Comentarios comparando as duas implementações:**\n",
        "\n",
        "---\n",
        "**Analise do desempenho de tempo:** A implementação manual teve um desempenho inferior comparado a biblioteca crc. Desde mensagens pequenas até as maiores, a versão manual levou mais tempo para calcular o CRC. Isso se deve ao fato que a implementação manual trabalha com strings e com operações de listas utilizando python. Já a biblioteca crc, por ser implementada em C, consegue realizar as mesmas operações de maneira mais otimizada.\n",
        "\n",
        "---\n",
        "\n",
        "**Analise do uso de memória:** A implementação manual consome mais memória que a biblioteca crc, em todos os tamanhos de mensagens testados. Isso ocorre principalmente pelo fato da implementação manual manipular várias strings intermediarias, o que gera cópias adicionais em memória. Já a biblioteca crc trabalha diretamente com os dados em formato de byts, tornando o uso de memória mais eficiente."
      ],
      "metadata": {
        "id": "YLFeM6NpbsyZ"
      }
    },
    {
      "cell_type": "markdown",
      "source": [
        "**Implementação PARTE 4**\n",
        "\n",
        "4.1\n",
        "a) Meu nome: Isaque\n",
        "\n",
        "nome = Isaque -> 010010010111001101100001011100010111010101100101\n",
        "\n",
        "b)Como minha matrícula é 123110685 e terminar em 5 então, o meu gerador pessoal será: 10001000000100001, seguindo o padrão CRC/ARC\n",
        "\n",
        "Com isso precisamos calcular o crc, para poder preencher a planilha"
      ],
      "metadata": {
        "id": "5LEveahWl0jC"
      }
    },
    {
      "cell_type": "code",
      "source": [
        "mensagem_base = \"010010010111001101100001011100010111010101100101\"\n",
        "gerador = \"10001000000100001\"\n",
        "\n",
        "crc = calcular_crc_manual(mensagem_base, gerador)\n",
        "print(crc)"
      ],
      "metadata": {
        "colab": {
          "base_uri": "https://localhost:8080/",
          "height": 0
        },
        "id": "vFwwrSvbmMZq",
        "outputId": "c16ad0db-4b9e-43b1-920c-31bd45bb4265"
      },
      "execution_count": 320,
      "outputs": [
        {
          "output_type": "stream",
          "name": "stdout",
          "text": [
            "1101101001010111\n"
          ]
        }
      ]
    },
    {
      "cell_type": "markdown",
      "source": [
        "Logo, a planilha preenchida fica:\n",
        "\n",
        "\n",
        "MENSAGEM: \"Isaque\"\n",
        "\n",
        "MENSAGEM_BASE: 010010010111001101100001011100010111010101100101\n",
        "\n",
        "CRC: 1101101001010111\n",
        "\n",
        "\n"
      ],
      "metadata": {
        "id": "5L4HQ2fpm6ms"
      }
    },
    {
      "cell_type": "code",
      "source": [
        "def padrao_erro(pos, n_rajada, tamanho_quadro):\n",
        "  prefixo_zero = '0' * pos\n",
        "  rajada = '1' * n_rajada\n",
        "  sufixo_zero = '0' * (tamanho_quadro - (pos + n_rajada))\n",
        "  return prefixo_zero + rajada + sufixo_zero"
      ],
      "metadata": {
        "id": "_-1ljB8WszsQ"
      },
      "execution_count": 194,
      "outputs": []
    },
    {
      "cell_type": "markdown",
      "source": [
        "TESTE 1"
      ],
      "metadata": {
        "id": "haqZQr1ZveKp"
      }
    },
    {
      "cell_type": "code",
      "source": [
        "from crc import Calculator, Crc16\n",
        "\n",
        "mensagem_base = \"010010010111001101100001011100010111010101100101\"\n",
        "crc = \"1101101001010111\"\n",
        "QUADRO_TRANSMITIDO = mensagem_base + crc\n",
        "calculator = Calculator(Crc16.MODBUS)\n",
        "\n",
        "#Erro na Posição 1, com rajada de 5 bits\n",
        "padrao_erro_1 = padrao_erro(0,5,len(QUADRO_TRANSMITIDO))\n",
        "QUADRO_CORROMPIDO_1 = xor_bits(QUADRO_TRANSMITIDO,padrao_erro_1)\n",
        "\n",
        "print(padrao_erro_1)\n",
        "\n",
        "print(\"TESTE 1: \")\n",
        "crc_man = calcular_crc_manual(QUADRO_CORROMPIDO_1, gerador)\n",
        "print(crc_man)\n",
        "\n",
        "corrompido_bytes = int(QUADRO_CORROMPIDO_1, 2).to_bytes(len(QUADRO_CORROMPIDO_1) // 8, byteorder='big')\n",
        "crc_lib = calculator.checksum(corrompido_bytes)\n",
        "print(crc_lib)\n"
      ],
      "metadata": {
        "id": "p_57-RlKrODQ",
        "colab": {
          "base_uri": "https://localhost:8080/",
          "height": 0
        },
        "outputId": "76a7b80a-8cae-4173-9f35-57bdf541251a"
      },
      "execution_count": 339,
      "outputs": [
        {
          "output_type": "stream",
          "name": "stdout",
          "text": [
            "1111100000000000000000000000000000000000000000000000000000000000\n",
            "TESTE 1: \n",
            "0101001101010111\n",
            "33708\n"
          ]
        }
      ]
    },
    {
      "cell_type": "code",
      "source": [],
      "metadata": {
        "id": "uI5iXdTT75Ia"
      },
      "execution_count": null,
      "outputs": []
    },
    {
      "cell_type": "markdown",
      "source": [
        "TESTE 2"
      ],
      "metadata": {
        "id": "2encyBU71TiX"
      }
    },
    {
      "cell_type": "code",
      "source": [
        "from crc import Calculator, Crc16\n",
        "\n",
        "mensagem_base = \"010010010111001101100001011100010111010101100101\"\n",
        "crc = \"1101101001010111\"\n",
        "QUADRO_TRANSMITIDO = mensagem_base + crc\n",
        "calculator = Calculator(Crc16.MODBUS)\n",
        "\n",
        "#Erro na Posição 2, com rajada de 10 bits\n",
        "padrao_erro_1 = padrao_erro(1,10,len(QUADRO_TRANSMITIDO))\n",
        "QUADRO_CORROMPIDO_1 = xor_bits(QUADRO_TRANSMITIDO,padrao_erro_1)\n",
        "print(padrao_erro_1)\n",
        "\n",
        "print(\"TESTE 2: \")\n",
        "crc_man = calcular_crc_manual(QUADRO_CORROMPIDO_1, gerador)\n",
        "print(crc_man)\n",
        "\n",
        "corrompido_bytes = int(QUADRO_CORROMPIDO_1, 2).to_bytes(len(QUADRO_CORROMPIDO_1) // 8, byteorder='big')\n",
        "crc_lib = calculator.checksum(corrompido_bytes)\n",
        "print(crc_lib)"
      ],
      "metadata": {
        "colab": {
          "base_uri": "https://localhost:8080/",
          "height": 0
        },
        "id": "pmiomGLR1Tvq",
        "outputId": "333bee36-57df-4619-8d85-df075de2436d"
      },
      "execution_count": 341,
      "outputs": [
        {
          "output_type": "stream",
          "name": "stdout",
          "text": [
            "0111111111100000000000000000000000000000000000000000000000000000\n",
            "TESTE 2: \n",
            "0111000100101101\n",
            "51972\n"
          ]
        }
      ]
    },
    {
      "cell_type": "markdown",
      "source": [
        "TESTE 3"
      ],
      "metadata": {
        "id": "iNAZ_mps1UKQ"
      }
    },
    {
      "cell_type": "code",
      "source": [
        "from crc import Calculator, Crc16\n",
        "\n",
        "mensagem_base = \"010010010111001101100001011100010111010101100101\"\n",
        "crc = \"1101101001010111\"\n",
        "QUADRO_TRANSMITIDO = mensagem_base + crc\n",
        "calculator = Calculator(Crc16.MODBUS)\n",
        "\n",
        "#Erro na Posição 7, com rajada de 15 bits\n",
        "padrao_erro_1 = padrao_erro(6,15,len(QUADRO_TRANSMITIDO))\n",
        "QUADRO_CORROMPIDO_1 = xor_bits(QUADRO_TRANSMITIDO,padrao_erro_1)\n",
        "print(padrao_erro_1)\n",
        "\n",
        "print(\"TESTE 3: \")\n",
        "crc_man = calcular_crc_manual(QUADRO_CORROMPIDO_1, gerador)\n",
        "print(crc_man)\n",
        "\n",
        "corrompido_bytes = int(QUADRO_CORROMPIDO_1, 2).to_bytes(len(QUADRO_CORROMPIDO_1) // 8, byteorder='big')\n",
        "crc_lib = calculator.checksum(corrompido_bytes)\n",
        "print(crc_lib)"
      ],
      "metadata": {
        "colab": {
          "base_uri": "https://localhost:8080/",
          "height": 0
        },
        "id": "4tQEicFS1URJ",
        "outputId": "24c7c6b8-ad9f-46b9-a8b0-90ba3d2a5671"
      },
      "execution_count": 342,
      "outputs": [
        {
          "output_type": "stream",
          "name": "stdout",
          "text": [
            "0000001111111111111110000000000000000000000000000000000000000000\n",
            "TESTE 3: \n",
            "1111000111111010\n",
            "50168\n"
          ]
        }
      ]
    },
    {
      "cell_type": "markdown",
      "source": [
        "TESTE 4"
      ],
      "metadata": {
        "id": "K_wSu61c1Ulw"
      }
    },
    {
      "cell_type": "code",
      "source": [
        "from crc import Calculator, Crc16\n",
        "\n",
        "mensagem_base = \"010010010111001101100001011100010111010101100101\"\n",
        "crc = \"1101101001010111\"\n",
        "QUADRO_TRANSMITIDO = mensagem_base + crc\n",
        "calculator = Calculator(Crc16.MODBUS)\n",
        "\n",
        "#Erro na Posição 9, com rajada de 20 bits\n",
        "padrao_erro_1 = padrao_erro(8,20,len(QUADRO_TRANSMITIDO))\n",
        "QUADRO_CORROMPIDO_1 = xor_bits(QUADRO_TRANSMITIDO,padrao_erro_1)\n",
        "print(padrao_erro_1)\n",
        "\n",
        "print(\"TESTE 4: \")\n",
        "crc_man = calcular_crc_manual(QUADRO_CORROMPIDO_1, gerador)\n",
        "print(crc_man)\n",
        "\n",
        "corrompido_bytes = int(QUADRO_CORROMPIDO_1, 2).to_bytes(len(QUADRO_CORROMPIDO_1) // 8, byteorder='big')\n",
        "crc_lib = calculator.checksum(corrompido_bytes)\n",
        "print(crc_lib)"
      ],
      "metadata": {
        "colab": {
          "base_uri": "https://localhost:8080/",
          "height": 0
        },
        "id": "5Xs2abdP1Urp",
        "outputId": "625dde91-42ba-4c12-df45-7471614373b0"
      },
      "execution_count": 343,
      "outputs": [
        {
          "output_type": "stream",
          "name": "stdout",
          "text": [
            "0000000011111111111111111111000000000000000000000000000000000000\n",
            "TESTE 4: \n",
            "1100111010011000\n",
            "29945\n"
          ]
        }
      ]
    },
    {
      "cell_type": "markdown",
      "source": [
        "TESTE 5"
      ],
      "metadata": {
        "id": "wdIKkchG1Uxe"
      }
    },
    {
      "cell_type": "code",
      "source": [
        "from crc import Calculator, Crc16\n",
        "\n",
        "mensagem_base = \"010010010111001101100001011100010111010101100101\"\n",
        "crc = \"1101101001010111\"\n",
        "QUADRO_TRANSMITIDO = mensagem_base + crc\n",
        "calculator = Calculator(Crc16.MODBUS)\n",
        "\n",
        "#Erro na Posição 12, com rajada de 28 bits\n",
        "padrao_erro_1 = padrao_erro(11,28,len(QUADRO_TRANSMITIDO))\n",
        "QUADRO_CORROMPIDO_1 = xor_bits(QUADRO_TRANSMITIDO,padrao_erro_1)\n",
        "print(padrao_erro_1)\n",
        "\n",
        "print(\"TESTE 5: \")\n",
        "crc_man = calcular_crc_manual(QUADRO_CORROMPIDO_1, gerador)\n",
        "print(crc_man)\n",
        "\n",
        "corrompido_bytes = int(QUADRO_CORROMPIDO_1, 2).to_bytes(len(QUADRO_CORROMPIDO_1) // 8, byteorder='big')\n",
        "crc_lib = calculator.checksum(corrompido_bytes)\n",
        "print(crc_lib, \"\\n\")"
      ],
      "metadata": {
        "colab": {
          "base_uri": "https://localhost:8080/",
          "height": 0
        },
        "id": "iv9RRaqN1U2n",
        "outputId": "ec10c163-d023-4d43-f60a-ef4cca8f6b73"
      },
      "execution_count": 344,
      "outputs": [
        {
          "output_type": "stream",
          "name": "stdout",
          "text": [
            "0000000000011111111111111111111111111110000000000000000000000000\n",
            "TESTE 5: \n",
            "1000111010010101\n",
            "21373 \n",
            "\n"
          ]
        }
      ]
    },
    {
      "cell_type": "markdown",
      "source": [
        "TESTE 6"
      ],
      "metadata": {
        "id": "g0b7o-ta1U8h"
      }
    },
    {
      "cell_type": "code",
      "source": [
        "from crc import Calculator, Crc16\n",
        "\n",
        "mensagem_base = \"010010010111001101100001011100010111010101100101\"\n",
        "crc = \"1101101001010111\"\n",
        "QUADRO_TRANSMITIDO = mensagem_base + crc\n",
        "calculator = Calculator(Crc16.MODBUS)\n",
        "\n",
        "#Erro na Posição 10, com rajada de 22 bits\n",
        "padrao_erro_1 = padrao_erro(9,22,len(QUADRO_TRANSMITIDO))\n",
        "QUADRO_CORROMPIDO_1 = xor_bits(QUADRO_TRANSMITIDO,padrao_erro_1)\n",
        "print(padrao_erro_1)\n",
        "\n",
        "print(\"TESTE 6: \")\n",
        "crc_man = calcular_crc_manual(QUADRO_CORROMPIDO_1, gerador)\n",
        "print(crc_man)\n",
        "\n",
        "corrompido_bytes = int(QUADRO_CORROMPIDO_1, 2).to_bytes(len(QUADRO_CORROMPIDO_1) // 8, byteorder='big')\n",
        "crc_lib = calculator.checksum(corrompido_bytes)\n",
        "print(crc_lib, \"\\n\")"
      ],
      "metadata": {
        "colab": {
          "base_uri": "https://localhost:8080/",
          "height": 0
        },
        "id": "JyDYkGe31VBh",
        "outputId": "da49f902-6655-4f10-d4a7-b6093b12b07a"
      },
      "execution_count": 345,
      "outputs": [
        {
          "output_type": "stream",
          "name": "stdout",
          "text": [
            "0000000001111111111111111111111000000000000000000000000000000000\n",
            "TESTE 6: \n",
            "1010101011001001\n",
            "32017 \n",
            "\n"
          ]
        }
      ]
    },
    {
      "cell_type": "markdown",
      "source": [
        "TESTE 7"
      ],
      "metadata": {
        "id": "cl1tlGq31VGn"
      }
    },
    {
      "cell_type": "code",
      "source": [
        "from crc import Calculator, Crc16\n",
        "\n",
        "mensagem_base = \"010010010111001101100001011100010111010101100101\"\n",
        "crc = \"1101101001010111\"\n",
        "QUADRO_TRANSMITIDO = mensagem_base + crc\n",
        "calculator = Calculator(Crc16.MODBUS)\n",
        "\n",
        "#Erro na Posição 19, com rajada de 30 bits\n",
        "padrao_erro_1 = padrao_erro(18,30,len(QUADRO_TRANSMITIDO))\n",
        "QUADRO_CORROMPIDO_1 = xor_bits(QUADRO_TRANSMITIDO,padrao_erro_1)\n",
        "print(padrao_erro_1)\n",
        "\n",
        "print(\"TESTE 7: \")\n",
        "crc_man = calcular_crc_manual(QUADRO_CORROMPIDO_1, gerador)\n",
        "print(crc_man)\n",
        "\n",
        "corrompido_bytes = int(QUADRO_CORROMPIDO_1, 2).to_bytes(len(QUADRO_CORROMPIDO_1) // 8, byteorder='big')\n",
        "crc_lib = calculator.checksum(corrompido_bytes)\n",
        "print(crc_lib, \"\\n\")"
      ],
      "metadata": {
        "colab": {
          "base_uri": "https://localhost:8080/",
          "height": 0
        },
        "id": "SvKwv3UY1VMA",
        "outputId": "e2a0b039-e4c9-4da8-b735-c59b92fa5a85"
      },
      "execution_count": 352,
      "outputs": [
        {
          "output_type": "stream",
          "name": "stdout",
          "text": [
            "0000000000000000001111111111111111111111111111110000000000000000\n",
            "TESTE 7: \n",
            "0011010011100000\n",
            "24243 \n",
            "\n"
          ]
        }
      ]
    },
    {
      "cell_type": "markdown",
      "source": [
        "TESTE 8"
      ],
      "metadata": {
        "id": "fyIFavMY1VRS"
      }
    },
    {
      "cell_type": "code",
      "source": [
        "from crc import Calculator, Crc16\n",
        "\n",
        "mensagem_base = \"010010010111001101100001011100010111010101100101\"\n",
        "crc = \"1101101001010111\"\n",
        "QUADRO_TRANSMITIDO = mensagem_base + crc\n",
        "calculator = Calculator(Crc16.MODBUS)\n",
        "\n",
        "#Erro na Posição 3, com rajada de 30 bits\n",
        "padrao_erro_1 = padrao_erro(2,30,len(QUADRO_TRANSMITIDO))\n",
        "QUADRO_CORROMPIDO_1 = xor_bits(QUADRO_TRANSMITIDO,padrao_erro_1)\n",
        "print(padrao_erro_1)\n",
        "\n",
        "print(\"TESTE 8: \")\n",
        "crc_man = calcular_crc_manual(QUADRO_CORROMPIDO_1, gerador)\n",
        "print(crc_man)\n",
        "\n",
        "corrompido_bytes = int(QUADRO_CORROMPIDO_1, 2).to_bytes(len(QUADRO_CORROMPIDO_1) // 8, byteorder='big')\n",
        "crc_lib = calculator.checksum(corrompido_bytes)\n",
        "print(crc_lib, \"\\n\")\n"
      ],
      "metadata": {
        "colab": {
          "base_uri": "https://localhost:8080/",
          "height": 0
        },
        "id": "d_l-Sr7o1VVz",
        "outputId": "b54455d1-4158-41eb-f616-af9b795baddb"
      },
      "execution_count": 347,
      "outputs": [
        {
          "output_type": "stream",
          "name": "stdout",
          "text": [
            "0011111111111111111111111111111100000000000000000000000000000000\n",
            "TESTE 8: \n",
            "0011010001111111\n",
            "8686 \n",
            "\n"
          ]
        }
      ]
    },
    {
      "cell_type": "markdown",
      "source": [
        "TESTE 9"
      ],
      "metadata": {
        "id": "CGX-ieDW1VbV"
      }
    },
    {
      "cell_type": "code",
      "source": [
        "from crc import Calculator, Crc16\n",
        "\n",
        "mensagem_base = \"010010010111001101100001011100010111010101100101\"\n",
        "crc = \"1101101001010111\"\n",
        "QUADRO_TRANSMITIDO = mensagem_base + crc\n",
        "calculator = Calculator(Crc16.MODBUS)\n",
        "\n",
        "#Erro na Posição 5, com rajada de 19 bits\n",
        "padrao_erro_1 = padrao_erro(4,19,len(QUADRO_TRANSMITIDO))\n",
        "QUADRO_CORROMPIDO_1 = xor_bits(QUADRO_TRANSMITIDO,padrao_erro_1)\n",
        "print(padrao_erro_1)\n",
        "\n",
        "print(\"TESTE 9: \")\n",
        "crc_man = calcular_crc_manual(QUADRO_CORROMPIDO_1, gerador)\n",
        "print(crc_man)\n",
        "\n",
        "corrompido_bytes = int(QUADRO_CORROMPIDO_1, 2).to_bytes(len(QUADRO_CORROMPIDO_1) // 8, byteorder='big')\n",
        "crc_lib = calculator.checksum(corrompido_bytes)\n",
        "print(crc_lib, \"\\n\")"
      ],
      "metadata": {
        "colab": {
          "base_uri": "https://localhost:8080/",
          "height": 0
        },
        "id": "uLX5XxxQ1VgK",
        "outputId": "d9387396-cd4e-4c75-a7c4-f8323afe7b29"
      },
      "execution_count": 348,
      "outputs": [
        {
          "output_type": "stream",
          "name": "stdout",
          "text": [
            "0000111111111111111111100000000000000000000000000000000000000000\n",
            "TESTE 9: \n",
            "0110110110101100\n",
            "61688 \n",
            "\n"
          ]
        }
      ]
    },
    {
      "cell_type": "markdown",
      "source": [
        "TESTE 10"
      ],
      "metadata": {
        "id": "xaHtlTzd1VlS"
      }
    },
    {
      "cell_type": "code",
      "source": [
        "from crc import Calculator, Crc16\n",
        "\n",
        "mensagem_base = \"010010010111001101100001011100010111010101100101\"\n",
        "crc = \"1101101001010111\"\n",
        "QUADRO_TRANSMITIDO = mensagem_base + crc\n",
        "calculator = Calculator(Crc16.MODBUS)\n",
        "\n",
        "#Erro na Posição 8, com rajada de 31 bits\n",
        "padrao_erro_1 = padrao_erro(7,31,len(QUADRO_TRANSMITIDO))\n",
        "QUADRO_CORROMPIDO_1 = xor_bits(QUADRO_TRANSMITIDO,padrao_erro_1)\n",
        "print(padrao_erro_1)\n",
        "\n",
        "print(\"TESTE 10: \")\n",
        "crc_man = calcular_crc_manual(QUADRO_CORROMPIDO_1, gerador)\n",
        "print(crc_man)\n",
        "\n",
        "corrompido_bytes = int(QUADRO_CORROMPIDO_1, 2).to_bytes(len(QUADRO_CORROMPIDO_1) // 8, byteorder='big')\n",
        "crc_lib = calculator.checksum(corrompido_bytes)\n",
        "print(crc_lib, \"\\n\")"
      ],
      "metadata": {
        "colab": {
          "base_uri": "https://localhost:8080/",
          "height": 0
        },
        "id": "71EiQmfd1Vpr",
        "outputId": "d7f28f94-ee94-4155-9363-3c415e114c36"
      },
      "execution_count": 349,
      "outputs": [
        {
          "output_type": "stream",
          "name": "stdout",
          "text": [
            "0000000111111111111111111111111111111100000000000000000000000000\n",
            "TESTE 10: \n",
            "0011110011001101\n",
            "59740 \n",
            "\n"
          ]
        }
      ]
    },
    {
      "cell_type": "markdown",
      "source": [
        "**RELATORIO FINAL**\n",
        "\n",
        "\n",
        "---\n",
        "TESTE 1:\n",
        "\n",
        "  POSIÇÃO: 1\n",
        "\n",
        "  PADRÃO DE ERRO: 1111100000000000000000000000000000000000000000000000000000000000\n",
        "\n",
        "  ERRO FOI DETECTADO NA IMPLEMENTAÇÃO MANUAL? SIM\n",
        "\n",
        "  ERRO FOI DETECTADO NA IMPLEMENTAÇÃO DA BIBLIOTECA? SIM\n",
        "\n",
        "---\n",
        "TESTE 2:\n",
        "\n",
        "  POSIÇÃO: 2\n",
        "  \n",
        "  PADRÃO DE ERRO: 0111111111100000000000000000000000000000000000000000000000000000\n",
        "  \n",
        "  ERRO FOI DETECTADO NA IMPLEMENTAÇÃO MANUAL? SIM\n",
        "  \n",
        "  ERRO FOI DETECTADO NA IMPLEMENTAÇÃO DA BIBLIOTECA? SIM\n",
        "\n",
        "---\n",
        "TESTE 3:\n",
        "\n",
        "  POSIÇÃO: 7\n",
        "\n",
        "  PADRÃO DE ERRO: 0000001111111111111110000000000000000000000000000000000000000000\n",
        "\n",
        "  ERRO FOI DETECTADO NA IMPLEMENTAÇÃO MANUAL? SIM\n",
        "  \n",
        "  ERRO FOI DETECTADO NA IMPLEMENTAÇÃO DA BIBLIOTECA? SIM\n",
        "  \n",
        "---\n",
        "TESTE 4:\n",
        "\n",
        "  POSIÇÃO: 9\n",
        "  \n",
        "  PADRÃO DE ERRO: 0000000011111111111111111111000000000000000000000000000000000000\n",
        "\n",
        "  ERRO FOI DETECTADO NA IMPLEMENTAÇÃO MANUAL? SIM\n",
        "  \n",
        "  ERRO FOI DETECTADO NA IMPLEMENTAÇÃO DA BIBLIOTECA? SIM\n",
        "\n",
        "---\n",
        "TESTE 5:\n",
        "\n",
        "  POSIÇÃO: 12\n",
        "\n",
        "  PADRÃO DE ERRO: 0000000000011111111111111111111111111110000000000000000000000000\n",
        "\n",
        "  ERRO FOI DETECTADO NA IMPLEMENTAÇÃO MANUAL? SIM\n",
        "  \n",
        "  ERRO FOI DETECTADO NA IMPLEMENTAÇÃO DA BIBLIOTECA? SIM\n",
        "\n",
        "---\n",
        "TESTE 6:\n",
        "\n",
        "  POSIÇÃO: 10\n",
        "  \n",
        "  PADRÃO DE ERRO: 0000000001111111111111111111111000000000000000000000000000000000\n",
        "\n",
        "  ERRO FOI DETECTADO NA IMPLEMENTAÇÃO MANUAL? SIM\n",
        "  \n",
        "  ERRO FOI DETECTADO NA IMPLEMENTAÇÃO DA BIBLIOTECA? SIM\n",
        "\n",
        "---\n",
        "TESTE 7:\n",
        "\n",
        "  POSIÇÃO: 19\n",
        "\n",
        "  PADRÃO DE ERRO: 0000000000000000001111111111111111111111111111110000000000000000\n",
        "\n",
        "  ERRO FOI DETECTADO NA IMPLEMENTAÇÃO MANUAL? SIM\n",
        "  \n",
        "  ERRO FOI DETECTADO NA IMPLEMENTAÇÃO DA BIBLIOTECA? SIM\n",
        "  \n",
        "---\n",
        "TESTE 8:\n",
        "\n",
        "  POSIÇÃO: 3\n",
        "  \n",
        "  PADRÃO DE ERRO: 0011111111111111111111111111111100000000000000000000000000000000\n",
        "\n",
        "  ERRO FOI DETECTADO NA IMPLEMENTAÇÃO MANUAL? SIM\n",
        "  \n",
        "  ERRO FOI DETECTADO NA IMPLEMENTAÇÃO DA BIBLIOTECA? SIM\n",
        "\n",
        "---\n",
        "TESTE 9:\n",
        "\n",
        "  POSIÇÃO: 5\n",
        "\n",
        "  PADRÃO DE ERRO: 0000111111111111111111100000000000000000000000000000000000000000\n",
        "\n",
        "  ERRO FOI DETECTADO NA IMPLEMENTAÇÃO MANUAL? SIM\n",
        "  \n",
        "  ERRO FOI DETECTADO NA IMPLEMENTAÇÃO DA BIBLIOTECA? SIM\n",
        "  \n",
        "---\n",
        "TESTE 10:\n",
        "\n",
        "  POSIÇÃO: 8\n",
        "  \n",
        "  PADRÃO DE ERRO: 0000000111111111111111111111111111111100000000000000000000000000\n",
        "\n",
        "  ERRO FOI DETECTADO NA IMPLEMENTAÇÃO MANUAL? SIM\n",
        "  \n",
        "  ERRO FOI DETECTADO NA IMPLEMENTAÇÃO DA BIBLIOTECA? SIM\n",
        "\n"
      ],
      "metadata": {
        "id": "HXaokULt6C7e"
      }
    },
    {
      "cell_type": "markdown",
      "source": [
        "Durante meus testes, eu testei centenas de vezes e em nenhuma das vezes as implementações falharam em detectar os erros, não sei se acabei fazendo algo de errado. Enfim todos os testes que realizei ambas as implementações acertaram todas as vezes em identificar os erros nas transmissões, visto que em todos os testes o CRC deu diferente de zero.\n",
        "\n",
        "Ademais, por mais que eu não tenha conseguido achar nenhum teste em que as implementações falharam em detectar os erros, o CRC possui sim limites e não é sempre que os erros serão detectados, pode acontecer casos em que os erros não serão detectados e passarão para o destino final. Além disso, o CRC não é capaz de corrigir erros e sua eficiência depende do polinômio gerador, fatos esses que também limitam o CRC.\n",
        "\n",
        "Por fim, não encontrei nenhuma diferença entre a implementação manual e a implementação da biblioteca, ambas tiveram o mesmo comportamento nos testes e forneceram resultados corretos. Com isso, por mais que eu não tenha conseguido forçar um erro passando despercebido, sei que ele são possiveis, o que reforça que o CRC não é infalível."
      ],
      "metadata": {
        "id": "6uDCiOKQ_S3L"
      }
    }
  ]
}